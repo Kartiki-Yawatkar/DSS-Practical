{
 "cells": [
  {
   "cell_type": "code",
   "execution_count": 1,
   "id": "fbf35cb2-db00-4d13-88cb-7d356d4862d7",
   "metadata": {},
   "outputs": [],
   "source": [
    "# EXP no.:2"
   ]
  },
  {
   "cell_type": "code",
   "execution_count": 2,
   "id": "bfcf97c0-1a91-4146-a1c1-fe2eb6b04dc4",
   "metadata": {},
   "outputs": [],
   "source": [
    "# Aim: to perform operation of central tendency of measures"
   ]
  },
  {
   "cell_type": "code",
   "execution_count": 3,
   "id": "a6125763-cc0f-471c-ade6-bdbfacaceb5a",
   "metadata": {},
   "outputs": [],
   "source": [
    "# NAME: Kartiki Yawatkar\n",
    "# Roll no:66\n",
    "#SEC:A\n",
    "# Subject:Emerging Technology 1(ET 1)\n",
    "#Date:4/8/2025"
   ]
  },
  {
   "cell_type": "markdown",
   "id": "deb9a8bd-6a0a-4d31-8524-a98f4503ff4f",
   "metadata": {},
   "source": [
    "# To Perform Operation of Central Tendency of Measures (Mean,Median,Mode)"
   ]
  },
  {
   "cell_type": "code",
   "execution_count": 4,
   "id": "0ece2c33-d86e-4373-8008-58eea87dbc86",
   "metadata": {},
   "outputs": [],
   "source": [
    "age = [20,21,22,23,22,22,21,22,21,21,22,24]"
   ]
  },
  {
   "cell_type": "code",
   "execution_count": 5,
   "id": "c7dc77f3-69bd-4aa1-9b09-1fde8483fc42",
   "metadata": {},
   "outputs": [
    {
     "name": "stdout",
     "output_type": "stream",
     "text": [
      "[20, 21, 22, 23, 22, 22, 21, 22, 21, 21, 22, 24]\n"
     ]
    }
   ],
   "source": [
    "print(age)"
   ]
  },
  {
   "cell_type": "code",
   "execution_count": 6,
   "id": "70ab1928-97d9-4bd8-8805-d8ecab770912",
   "metadata": {},
   "outputs": [
    {
     "data": {
      "text/plain": [
       "[20, 21, 22, 23, 22, 22, 21, 22, 21, 21, 22, 24]"
      ]
     },
     "execution_count": 6,
     "metadata": {},
     "output_type": "execute_result"
    }
   ],
   "source": [
    "age"
   ]
  },
  {
   "cell_type": "code",
   "execution_count": 7,
   "id": "27d178ec-0552-497a-b3d9-a454548f4140",
   "metadata": {},
   "outputs": [],
   "source": [
    "import statistics"
   ]
  },
  {
   "cell_type": "code",
   "execution_count": 8,
   "id": "eba76fff-bd89-4376-b063-fd44cea59949",
   "metadata": {},
   "outputs": [],
   "source": [
    "Mean = statistics.mean(age)"
   ]
  },
  {
   "cell_type": "code",
   "execution_count": 9,
   "id": "eca9fdc3-0961-4c2b-80ea-86756285a3de",
   "metadata": {},
   "outputs": [
    {
     "data": {
      "text/plain": [
       "21.75"
      ]
     },
     "execution_count": 9,
     "metadata": {},
     "output_type": "execute_result"
    }
   ],
   "source": [
    "Mean"
   ]
  },
  {
   "cell_type": "code",
   "execution_count": 10,
   "id": "98b35a2d-e7c3-4a3b-94fd-5a0856afe41c",
   "metadata": {},
   "outputs": [],
   "source": [
    "b = statistics.median(age)"
   ]
  },
  {
   "cell_type": "code",
   "execution_count": 11,
   "id": "fd1f656b-2c80-48da-b64e-ab1fb947edef",
   "metadata": {},
   "outputs": [
    {
     "data": {
      "text/plain": [
       "22.0"
      ]
     },
     "execution_count": 11,
     "metadata": {},
     "output_type": "execute_result"
    }
   ],
   "source": [
    "b"
   ]
  },
  {
   "cell_type": "code",
   "execution_count": 12,
   "id": "e27ea8f5-4c64-49ef-980f-a5955b674957",
   "metadata": {},
   "outputs": [],
   "source": [
    "c = statistics.mode(age)"
   ]
  },
  {
   "cell_type": "code",
   "execution_count": 13,
   "id": "54523e2b-9abb-425d-b8ec-d69afbbae66e",
   "metadata": {},
   "outputs": [
    {
     "data": {
      "text/plain": [
       "22"
      ]
     },
     "execution_count": 13,
     "metadata": {},
     "output_type": "execute_result"
    }
   ],
   "source": [
    "c"
   ]
  },
  {
   "cell_type": "markdown",
   "id": "a00fbdd1-8580-4d2f-97df-ff59218c2247",
   "metadata": {},
   "source": [
    "# Central Tendency of Measures using Numpy"
   ]
  },
  {
   "cell_type": "code",
   "execution_count": 14,
   "id": "cc3a104a-814e-4437-ab29-2963ea36ff87",
   "metadata": {},
   "outputs": [],
   "source": [
    "import numpy as np\n",
    "x =np.array([1,2,3,4,5,2,3,4,5,6,4,5,7,4,2])"
   ]
  },
  {
   "cell_type": "code",
   "execution_count": 15,
   "id": "156b5593-2cdb-4944-9d89-20174371705c",
   "metadata": {},
   "outputs": [
    {
     "data": {
      "text/plain": [
       "array([1, 2, 3, 4, 5, 2, 3, 4, 5, 6, 4, 5, 7, 4, 2])"
      ]
     },
     "execution_count": 15,
     "metadata": {},
     "output_type": "execute_result"
    }
   ],
   "source": [
    "x"
   ]
  },
  {
   "cell_type": "code",
   "execution_count": 16,
   "id": "44e9bd3f-5dad-489a-bb05-bab9a219d67d",
   "metadata": {},
   "outputs": [
    {
     "name": "stdout",
     "output_type": "stream",
     "text": [
      "3.8\n"
     ]
    }
   ],
   "source": [
    "print(np.mean(x))"
   ]
  },
  {
   "cell_type": "code",
   "execution_count": 17,
   "id": "56a58eae-6efd-479b-a0bd-fa01655a7e28",
   "metadata": {},
   "outputs": [
    {
     "name": "stdout",
     "output_type": "stream",
     "text": [
      "4.0\n"
     ]
    }
   ],
   "source": [
    "print(np.median(x))"
   ]
  },
  {
   "cell_type": "code",
   "execution_count": 18,
   "id": "f491dbe4-ab8c-45b5-85aa-b0fbb075470e",
   "metadata": {},
   "outputs": [
    {
     "ename": "AttributeError",
     "evalue": "module 'numpy' has no attribute 'mode'",
     "output_type": "error",
     "traceback": [
      "\u001b[1;31m---------------------------------------------------------------------------\u001b[0m",
      "\u001b[1;31mAttributeError\u001b[0m                            Traceback (most recent call last)",
      "Cell \u001b[1;32mIn[18], line 1\u001b[0m\n\u001b[1;32m----> 1\u001b[0m \u001b[38;5;28mprint\u001b[39m(np\u001b[38;5;241m.\u001b[39mmode(x))\n",
      "File \u001b[1;32mC:\\ProgramData\\anaconda3\\Lib\\site-packages\\numpy\\__init__.py:414\u001b[0m, in \u001b[0;36m__getattr__\u001b[1;34m(attr)\u001b[0m\n\u001b[0;32m    411\u001b[0m     \u001b[38;5;28;01mimport\u001b[39;00m\u001b[38;5;250m \u001b[39m\u001b[38;5;21;01mnumpy\u001b[39;00m\u001b[38;5;21;01m.\u001b[39;00m\u001b[38;5;21;01mchar\u001b[39;00m\u001b[38;5;250m \u001b[39m\u001b[38;5;28;01mas\u001b[39;00m\u001b[38;5;250m \u001b[39m\u001b[38;5;21;01mchar\u001b[39;00m\n\u001b[0;32m    412\u001b[0m     \u001b[38;5;28;01mreturn\u001b[39;00m char\u001b[38;5;241m.\u001b[39mchararray\n\u001b[1;32m--> 414\u001b[0m \u001b[38;5;28;01mraise\u001b[39;00m \u001b[38;5;167;01mAttributeError\u001b[39;00m(\u001b[38;5;124m\"\u001b[39m\u001b[38;5;124mmodule \u001b[39m\u001b[38;5;132;01m{!r}\u001b[39;00m\u001b[38;5;124m has no attribute \u001b[39m\u001b[38;5;124m\"\u001b[39m\n\u001b[0;32m    415\u001b[0m                      \u001b[38;5;124m\"\u001b[39m\u001b[38;5;132;01m{!r}\u001b[39;00m\u001b[38;5;124m\"\u001b[39m\u001b[38;5;241m.\u001b[39mformat(\u001b[38;5;18m__name__\u001b[39m, attr))\n",
      "\u001b[1;31mAttributeError\u001b[0m: module 'numpy' has no attribute 'mode'"
     ]
    }
   ],
   "source": [
    "print(np.mode(x))"
   ]
  },
  {
   "cell_type": "markdown",
   "id": "06b6e1f3-802c-4322-ae85-05c4938b6884",
   "metadata": {},
   "source": [
    "# Mode using Scipy"
   ]
  },
  {
   "cell_type": "code",
   "execution_count": 19,
   "id": "1a5678cf-8f76-435e-b0fa-c44260318a98",
   "metadata": {},
   "outputs": [],
   "source": [
    "from scipy import stats"
   ]
  },
  {
   "cell_type": "code",
   "execution_count": 20,
   "id": "5ee95695-b486-4c39-a6b2-e7993ddfb94c",
   "metadata": {},
   "outputs": [
    {
     "name": "stdout",
     "output_type": "stream",
     "text": [
      "ModeResult(mode=np.int64(4), count=np.int64(4))\n"
     ]
    }
   ],
   "source": [
    "print(stats.mode(x))"
   ]
  },
  {
   "cell_type": "code",
   "execution_count": 22,
   "id": "621f1d3b-40b6-4484-b949-c5020aff9097",
   "metadata": {},
   "outputs": [
    {
     "name": "stdout",
     "output_type": "stream",
     "text": [
      "1.6\n"
     ]
    }
   ],
   "source": [
    "print(np.std(x))"
   ]
  },
  {
   "cell_type": "code",
   "execution_count": 23,
   "id": "bbbaec8d-4a6b-430b-8de8-1e8e2719fc46",
   "metadata": {},
   "outputs": [
    {
     "name": "stdout",
     "output_type": "stream",
     "text": [
      "2.5600000000000005\n"
     ]
    }
   ],
   "source": [
    "print(np.var(x))"
   ]
  },
  {
   "cell_type": "code",
   "execution_count": null,
   "id": "a92fac50-f177-4382-9a72-6886f07408d4",
   "metadata": {},
   "outputs": [],
   "source": []
  }
 ],
 "metadata": {
  "kernelspec": {
   "display_name": "Python 3 (ipykernel)",
   "language": "python",
   "name": "python3"
  },
  "language_info": {
   "codemirror_mode": {
    "name": "ipython",
    "version": 3
   },
   "file_extension": ".py",
   "mimetype": "text/x-python",
   "name": "python",
   "nbconvert_exporter": "python",
   "pygments_lexer": "ipython3",
   "version": "3.13.5"
  }
 },
 "nbformat": 4,
 "nbformat_minor": 5
}
