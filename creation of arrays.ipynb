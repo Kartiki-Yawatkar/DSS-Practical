{
 "cells": [
  {
   "cell_type": "code",
   "execution_count": 1,
   "id": "dc7ca5fc-d1d5-4ebd-a24c-52009a7b2dab",
   "metadata": {},
   "outputs": [],
   "source": [
    "# EXP no.:5"
   ]
  },
  {
   "cell_type": "code",
   "execution_count": 2,
   "id": "316be804-fa3d-4c5a-9f3a-0d17bb09484c",
   "metadata": {},
   "outputs": [],
   "source": [
    "# Aim: to perform creation of arrays using numpy"
   ]
  },
  {
   "cell_type": "code",
   "execution_count": 3,
   "id": "84f8d101-fd43-460e-9865-e3c0b267e807",
   "metadata": {},
   "outputs": [],
   "source": [
    "# NAME: Kartiki Yawatkar\n",
    "# Roll no:66\n",
    "#SEC:A\n",
    "# Subject:Emerging Technology 1(ET 1)\n",
    "#Date:12/8/2025"
   ]
  },
  {
   "cell_type": "markdown",
   "id": "c5ae0e7e-a249-49d8-b572-ca908d8dc4df",
   "metadata": {},
   "source": [
    "# To perform Creation of Arrays using numpy"
   ]
  },
  {
   "cell_type": "code",
   "execution_count": 4,
   "id": "d0425387-48ba-45f2-bde8-f44b60557780",
   "metadata": {},
   "outputs": [],
   "source": [
    "import numpy as np"
   ]
  },
  {
   "cell_type": "code",
   "execution_count": 5,
   "id": "b05ad4e2-b9f5-47e3-9c5c-f9fd43661af6",
   "metadata": {},
   "outputs": [],
   "source": [
    "arr1 = np.array([1, 2, 3, 4])\n",
    "arr2 = np.array([[1, 2, 3], [4, 5, 6]])  \n"
   ]
  },
  {
   "cell_type": "code",
   "execution_count": 6,
   "id": "92be3a88-b2e6-44ba-88f7-3e100a5424c7",
   "metadata": {},
   "outputs": [
    {
     "name": "stdout",
     "output_type": "stream",
     "text": [
      "[1 2 3 4]\n"
     ]
    }
   ],
   "source": [
    "print(arr1)"
   ]
  },
  {
   "cell_type": "code",
   "execution_count": 7,
   "id": "a5ed9e39-9b9d-41b5-8cd1-5bc5fee85216",
   "metadata": {},
   "outputs": [
    {
     "name": "stdout",
     "output_type": "stream",
     "text": [
      "[[1 2 3]\n",
      " [4 5 6]]\n"
     ]
    }
   ],
   "source": [
    "print(arr2)"
   ]
  },
  {
   "cell_type": "code",
   "execution_count": 8,
   "id": "c9aef3eb-4b88-4f8d-a16f-9f2469e8ef6b",
   "metadata": {},
   "outputs": [],
   "source": [
    "arr3 = np.array([1, 2, 3], dtype=float)  \n",
    "arr4 = np.array([1, 2, 3], dtype=np.int32)\n"
   ]
  },
  {
   "cell_type": "code",
   "execution_count": 9,
   "id": "b0bcae4d-d15c-42f9-b7d0-8f3c9794150b",
   "metadata": {},
   "outputs": [
    {
     "data": {
      "text/plain": [
       "array([1., 2., 3.])"
      ]
     },
     "execution_count": 9,
     "metadata": {},
     "output_type": "execute_result"
    }
   ],
   "source": [
    "arr3"
   ]
  },
  {
   "cell_type": "markdown",
   "id": "2ce5dcd2-0f32-473a-9f2d-51d66a2a4db0",
   "metadata": {},
   "source": [
    "# Creating 1D Array using numpy"
   ]
  },
  {
   "cell_type": "code",
   "execution_count": 10,
   "id": "8d7bdd56-718a-486f-973b-cec08999b73e",
   "metadata": {},
   "outputs": [],
   "source": [
    "a1 = np.array([10,20,30,40,50])"
   ]
  },
  {
   "cell_type": "code",
   "execution_count": 11,
   "id": "7fb094ab-7ad5-48cc-82ed-1564b12798b7",
   "metadata": {},
   "outputs": [
    {
     "data": {
      "text/plain": [
       "array([10, 20, 30, 40, 50])"
      ]
     },
     "execution_count": 11,
     "metadata": {},
     "output_type": "execute_result"
    }
   ],
   "source": [
    "a1"
   ]
  },
  {
   "cell_type": "markdown",
   "id": "e16db3c3-99d8-41b9-b163-d69a2ce7b38c",
   "metadata": {},
   "source": [
    "# Creating 2D Array using numpy"
   ]
  },
  {
   "cell_type": "code",
   "execution_count": 13,
   "id": "a127a275-2aff-41e9-98b9-f8c91cc2dbc0",
   "metadata": {},
   "outputs": [],
   "source": [
    "a2 = np.array([[10,20,30,40,50],\n",
    "               [60,70,80,90,100]])\n"
   ]
  },
  {
   "cell_type": "code",
   "execution_count": 14,
   "id": "57b00349-c327-4537-840a-753db8cd1edf",
   "metadata": {},
   "outputs": [
    {
     "data": {
      "text/plain": [
       "array([[ 10,  20,  30,  40,  50],\n",
       "       [ 60,  70,  80,  90, 100]])"
      ]
     },
     "execution_count": 14,
     "metadata": {},
     "output_type": "execute_result"
    }
   ],
   "source": [
    "a2"
   ]
  },
  {
   "cell_type": "code",
   "execution_count": null,
   "id": "db51b197-d300-4384-a056-86a7051a4977",
   "metadata": {},
   "outputs": [],
   "source": []
  }
 ],
 "metadata": {
  "kernelspec": {
   "display_name": "Python 3 (ipykernel)",
   "language": "python",
   "name": "python3"
  },
  "language_info": {
   "codemirror_mode": {
    "name": "ipython",
    "version": 3
   },
   "file_extension": ".py",
   "mimetype": "text/x-python",
   "name": "python",
   "nbconvert_exporter": "python",
   "pygments_lexer": "ipython3",
   "version": "3.13.5"
  }
 },
 "nbformat": 4,
 "nbformat_minor": 5
}
